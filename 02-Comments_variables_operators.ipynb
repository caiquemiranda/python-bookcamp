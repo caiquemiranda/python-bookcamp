{
 "cells": [
  {
   "attachments": {},
   "cell_type": "markdown",
   "metadata": {},
   "source": [
    "### Comentários, Variáveis e operadores"
   ]
  },
  {
   "attachments": {},
   "cell_type": "markdown",
   "metadata": {},
   "source": [
    "Neste capítulo, você verá alguns blocos de construção para desenvolver seu Python\n",
    "programas. Primeiro, você aprenderá como escrever comentários e usar variáveis em um\n",
    "programa. Mais tarde você aprenderá como usar operadores em seu programa."
   ]
  },
  {
   "attachments": {},
   "cell_type": "markdown",
   "metadata": {},
   "source": [
    "#### Usando comentários"
   ]
  },
  {
   "attachments": {},
   "cell_type": "markdown",
   "metadata": {},
   "source": [
    "É uma prática padrão usar comentários em seu programa. Esses comentários\n",
    "pode ajudar outras pessoas a entender melhor seu código. Consideremos uma vida real\n",
    "cenário. Em uma organização de software, um grupo de pessoas cria software para seus\n",
    "clientes. É possível que depois de alguns anos, nenhum deles esteja disponível.\n",
    "Ou esses membros se mudam para uma equipe diferente ou deixam o\n",
    "organização. Nesse caso, alguém precisa manter o software e\n",
    "continuar corrigindo os bugs para seus clientes. Mas é muito difícil\n",
    "entender a lógica se não houver dica ou explicação sobre o programa\n",
    "lógica. Os comentários são úteis em tais cenários. Estes nos ajudam a entender o\n",
    "código melhor."
   ]
  },
  {
   "attachments": {},
   "cell_type": "markdown",
   "metadata": {},
   "source": [
    "In Python, you see the following options for comments:\n",
    "Case-1: Single line comments using # tags. Here is an example:"
   ]
  },
  {
   "cell_type": "code",
   "execution_count": null,
   "metadata": {},
   "outputs": [],
   "source": [
    "# Este é um comentário de uma linha"
   ]
  },
  {
   "attachments": {},
   "cell_type": "markdown",
   "metadata": {},
   "source": [
    "Caso 2: Docstrings de várias linhas como comentários de várias linhas usando três\n",
    "aspas duplas (ou aspas simples). Você pode ver docstrings de uma linha como\n",
    "bem. Aqui eu mostro o uso de docstrings que eu uso dentro de uma função em\n",
    "Capítulo 7. Por enquanto, você não precisa entender o código. Você só vê\n",
    "os textos que iniciam com aspas triplo-duplo (\" \" \") e terminam com triplo-duplo\n",
    "citações (\" \" \")"
   ]
  },
  {
   "cell_type": "code",
   "execution_count": null,
   "metadata": {},
   "outputs": [],
   "source": [
    "def print_details(name,age):\n",
    "\"\"\"\n",
    "This function takes two parameters.\n",
    "You can supply the name and age of the user\n",
    "in this function.\n",
    "\"\"\"\n",
    "print(f\"Hello {name}!How are you?\")\n",
    "print(f\"You are now {age}.\")"
   ]
  },
  {
   "attachments": {},
   "cell_type": "markdown",
   "metadata": {},
   "source": [
    "PONTOS PARA LEMBRAR: \n",
    "\n",
    "Os comentários são notas simples ou alguns textos.\n",
    "Você os usa para leitores humanos, mas não para o\n",
    "interpretador Python. O interpretador Python ignora o\n",
    "texto dentro de um bloco de comentários.\n",
    "Na indústria de software, muitos técnicos\n",
    "revisores revisam seu código. os comentários ajudam\n",
    "eles entendam a lógica do programa.\n",
    "Um desenvolvedor pode esquecer a lógica depois de algum\n",
    "meses. Esses comentários podem ajudá-lo a lembrar\n",
    "sua lógica.\n",
    "Os especialistas preferem usar as muitas linhas únicas\n",
    "comentários usando # tags.\n",
    "Na programação Python, funções, módulos,\n",
    "e classes devem ter docstrings. estes vão\n",
    "fazem sentido quando você os vê no Capítulo 7 ou\n",
    "Capítulo 11. Você saberá que uma docstring se torna\n",
    "o atributo _doc_ de um objeto. eu deixo o\n",
    "discussão neste ponto.\n",
    "No capítulo 7 e no capítulo 11, você verá que eu\n",
    "use docstrings para descrever uma função e classe\n",
    "comportamento.\n",
    "Neste capítulo, você aprenderá o uso de\n",
    "comentários que você pode ver no código de outras pessoas."
   ]
  },
  {
   "attachments": {},
   "cell_type": "markdown",
   "metadata": {},
   "source": [
    "#### Demonstração 1"
   ]
  },
  {
   "attachments": {},
   "cell_type": "markdown",
   "metadata": {},
   "source": [
    "Quando o interpretador Python vê um comentário, ele o ignora. Para entender\n",
    "isso, siga o próximo programa. Repito que os especialistas sugerem que usemos singleline\n",
    "comentários com # tags. O uso de docstrings é comum quando você usa um\n",
    "função, módulo ou classe. Você estará familiarizado com eles mais tarde."
   ]
  },
  {
   "cell_type": "code",
   "execution_count": null,
   "metadata": {},
   "outputs": [],
   "source": [
    "# Testing whether 2 is greater than 1\n",
    "print(2>1)\n",
    "'''\n",
    "I’m using these as multi-line comments.\n",
    "I use these lines for your reference only.\n",
    "These are common in class, functions, or modules.\n",
    "'''\n",
    "\"\"\"\n",
    "I’m trying to use multi-line comments using three double-quotes.\n",
    "I use these lines for your reference only.\n",
    "These are common in class, functions, or modules.\n",
    "\"\"\"\n",
    "# Now I'm showing multiple single-line comments\n",
    "# Multiplying 2 with 3\n",
    "# And printing the result\n",
    "print(2*3)"
   ]
  },
  {
   "attachments": {},
   "cell_type": "markdown",
   "metadata": {},
   "source": [
    "#### Análise"
   ]
  },
  {
   "attachments": {},
   "cell_type": "markdown",
   "metadata": {},
   "source": [
    "Este programa usa comentários diferentes e é fácil de entender. Você pode\n",
    "veja se você recebeu saída para as linhas print(2>1) e print(2*3)\n",
    "apenas. As partes restantes (comentários) são ignoradas pelo intérprete. Desde\n",
    "2 é maior que 1, então a saída veio como True , e quando você multiplica 2\n",
    "com 3, o resultado é 6 ."
   ]
  },
  {
   "attachments": {},
   "cell_type": "markdown",
   "metadata": {},
   "source": [
    "#### Introdução às Variáveis"
   ]
  },
  {
   "attachments": {},
   "cell_type": "markdown",
   "metadata": {},
   "source": [
    "Em álgebra matemática, você costuma escrever algo como x=10. Então você\n",
    "digamos que x é uma variável para representar o número 10 . Python funciona da mesma forma\n",
    "maneira, exceto que aqui você pode representar valores numéricos e não numéricos\n",
    "usando variáveis.\n",
    "Nas seções a seguir, para sua fácil compreensão, utilizo algumas\n",
    "string e variáveis numéricas. Você aprenderá mais sobre eles no próximo capítulo\n",
    "(Capítulo 3). Para continuar esta discussão, abordo rapidamente dois importantes\n",
    "pontos:\n",
    "O que quero dizer com as palavras - strings e números?\n",
    "Qual é a diferença entre int e float?"
   ]
  },
  {
   "cell_type": "markdown",
   "metadata": {},
   "source": []
  },
  {
   "cell_type": "markdown",
   "metadata": {},
   "source": []
  },
  {
   "cell_type": "markdown",
   "metadata": {},
   "source": []
  },
  {
   "cell_type": "markdown",
   "metadata": {},
   "source": []
  },
  {
   "cell_type": "markdown",
   "metadata": {},
   "source": []
  },
  {
   "cell_type": "markdown",
   "metadata": {},
   "source": []
  },
  {
   "cell_type": "markdown",
   "metadata": {},
   "source": []
  },
  {
   "cell_type": "markdown",
   "metadata": {},
   "source": []
  },
  {
   "cell_type": "code",
   "execution_count": null,
   "metadata": {},
   "outputs": [],
   "source": [
    "%reload_ext watermark\n",
    "%watermark -a \"Caique Miranda\" -gu \"caiquemiranda\" -iv"
   ]
  },
  {
   "attachments": {},
   "cell_type": "markdown",
   "metadata": {},
   "source": [
    "### End."
   ]
  }
 ],
 "metadata": {
  "language_info": {
   "name": "python"
  },
  "orig_nbformat": 4
 },
 "nbformat": 4,
 "nbformat_minor": 2
}
