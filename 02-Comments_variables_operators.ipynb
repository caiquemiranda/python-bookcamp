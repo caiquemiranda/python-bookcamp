{
 "cells": [
  {
   "attachments": {},
   "cell_type": "markdown",
   "metadata": {},
   "source": [
    "### Comentários, Variáveis e operadores"
   ]
  },
  {
   "attachments": {},
   "cell_type": "markdown",
   "metadata": {},
   "source": [
    "Neste capítulo, você verá alguns blocos de construção para desenvolver seu Python programas. Primeiro, você aprenderá como escrever comentários e usar variáveis em um programa. Mais tarde você aprenderá como usar operadores em seu programa."
   ]
  },
  {
   "attachments": {},
   "cell_type": "markdown",
   "metadata": {},
   "source": [
    "#### Usando comentários"
   ]
  },
  {
   "attachments": {},
   "cell_type": "markdown",
   "metadata": {},
   "source": [
    "É uma prática padrão usar comentários em seu programa. Esses comentários pode ajudar outras pessoas a entender melhor seu código. Consideremos uma vida real cenário. Em uma organização de software, um grupo de pessoas cria software para seus clientes. É possível que depois de alguns anos, nenhum deles esteja disponível. Ou esses membros se mudam para uma equipe diferente ou deixam o organização. Nesse caso, alguém precisa manter o software e continuar corrigindo os bugs para seus clientes. Mas é muito difícil entender a lógica se não houver dica ou explicação sobre o programa lógica. Os comentários são úteis em tais cenários. Estes nos ajudam a entender o código melhor."
   ]
  },
  {
   "attachments": {},
   "cell_type": "markdown",
   "metadata": {},
   "source": [
    "In Python, you see the following options for comments:\n",
    "Case-1: Single line comments using # tags. Here is an example:"
   ]
  },
  {
   "cell_type": "code",
   "execution_count": null,
   "metadata": {},
   "outputs": [],
   "source": [
    "# Este é um comentário de uma linha"
   ]
  },
  {
   "attachments": {},
   "cell_type": "markdown",
   "metadata": {},
   "source": [
    "Caso 2: Docstrings de várias linhas como comentários de várias linhas usando três aspas duplas (ou aspas simples). Você pode ver docstrings de uma linha como bem. Aqui eu mostro o uso de docstrings que eu uso dentro de uma função em Capítulo 7. Por enquanto, você não precisa entender o código. Você só vê os textos que iniciam com aspas triplo-duplo (\" \" \") e terminam com triplo-duplo citações (\" \" \")"
   ]
  },
  {
   "cell_type": "code",
   "execution_count": null,
   "metadata": {},
   "outputs": [],
   "source": [
    "def print_details(name,age):\n",
    "\"\"\"\n",
    "This function takes two parameters.\n",
    "You can supply the name and age of the user\n",
    "in this function.\n",
    "\"\"\"\n",
    "print(f\"Hello {name}!How are you?\")\n",
    "print(f\"You are now {age}.\")"
   ]
  },
  {
   "attachments": {},
   "cell_type": "markdown",
   "metadata": {},
   "source": [
    "PONTOS PARA LEMBRAR: \n",
    "\n",
    "Os comentários são notas simples ou alguns textos.\n",
    "Você os usa para leitores humanos, mas não para o\n",
    "interpretador Python. O interpretador Python ignora o\n",
    "texto dentro de um bloco de comentários.\n",
    "Na indústria de software, muitos técnicos\n",
    "revisores revisam seu código. os comentários ajudam\n",
    "eles entendam a lógica do programa.\n",
    "Um desenvolvedor pode esquecer a lógica depois de algum\n",
    "meses. Esses comentários podem ajudá-lo a lembrar\n",
    "sua lógica.\n",
    "Os especialistas preferem usar as muitas linhas únicas\n",
    "comentários usando # tags.\n",
    "Na programação Python, funções, módulos,\n",
    "e classes devem ter docstrings. estes vão\n",
    "fazem sentido quando você os vê no Capítulo 7 ou\n",
    "Capítulo 11. Você saberá que uma docstring se torna\n",
    "o atributo _doc_ de um objeto. eu deixo o\n",
    "discussão neste ponto.\n",
    "No capítulo 7 e no capítulo 11, você verá que eu\n",
    "use docstrings para descrever uma função e classe\n",
    "comportamento.\n",
    "Neste capítulo, você aprenderá o uso de\n",
    "comentários que você pode ver no código de outras pessoas."
   ]
  },
  {
   "attachments": {},
   "cell_type": "markdown",
   "metadata": {},
   "source": [
    "#### Demonstração 1"
   ]
  },
  {
   "attachments": {},
   "cell_type": "markdown",
   "metadata": {},
   "source": [
    "Quando o interpretador Python vê um comentário, ele o ignora. Para entender isso, siga o próximo programa. Repito que os especialistas sugerem que usemos singleline comentários com # tags. O uso de docstrings é comum quando você usa um função, módulo ou classe. Você estará familiarizado com eles mais tarde."
   ]
  },
  {
   "cell_type": "code",
   "execution_count": null,
   "metadata": {},
   "outputs": [],
   "source": [
    "# Testing whether 2 is greater than 1\n",
    "print(2>1)\n",
    "'''\n",
    "I’m using these as multi-line comments.\n",
    "I use these lines for your reference only.\n",
    "These are common in class, functions, or modules.\n",
    "'''\n",
    "\"\"\"\n",
    "I’m trying to use multi-line comments using three double-quotes.\n",
    "I use these lines for your reference only.\n",
    "These are common in class, functions, or modules.\n",
    "\"\"\"\n",
    "# Now I'm showing multiple single-line comments\n",
    "# Multiplying 2 with 3\n",
    "# And printing the result\n",
    "print(2*3)"
   ]
  },
  {
   "attachments": {},
   "cell_type": "markdown",
   "metadata": {},
   "source": [
    "#### Análise"
   ]
  },
  {
   "attachments": {},
   "cell_type": "markdown",
   "metadata": {},
   "source": [
    "Este programa usa comentários diferentes e é fácil de entender. Você pode veja se você recebeu saída para as linhas print(2>1) e print(2*3) apenas. As partes restantes (comentários) são ignoradas pelo intérprete. Desde 2 é maior que 1, então a saída veio como True , e quando você multiplica 2 com 3, o resultado é 6 ."
   ]
  },
  {
   "attachments": {},
   "cell_type": "markdown",
   "metadata": {},
   "source": [
    "#### Introdução às Variáveis"
   ]
  },
  {
   "attachments": {},
   "cell_type": "markdown",
   "metadata": {},
   "source": [
    "Em álgebra matemática, você costuma escrever algo como x=10. Então você digamos que x é uma variável para representar o número 10 . Python funciona da mesma forma maneira, exceto que aqui você pode representar valores numéricos e não numéricos usando variáveis. Nas seções a seguir, para sua fácil compreensão, utilizo algumas string e variáveis numéricas. Você aprenderá mais sobre eles no próximo capítulo (Capítulo 3). Para continuar esta discussão, abordo rapidamente dois importantes pontos: O que quero dizer com as palavras - strings e números? Qual é a diferença entre int e float?"
   ]
  },
  {
   "attachments": {},
   "cell_type": "markdown",
   "metadata": {},
   "source": [
    "#### Strings vs Números"
   ]
  },
  {
   "attachments": {},
   "cell_type": "markdown",
   "metadata": {},
   "source": [
    "Em palavras simples, strings são textos. Eles são muito comuns em Python programação. Você já viu o uso de strings anteriormente demonstrações. Por exemplo, para imprimir Hello World! Eu escrevi o seguinte:"
   ]
  },
  {
   "cell_type": "code",
   "execution_count": null,
   "metadata": {},
   "outputs": [],
   "source": [
    "print(\"Olá mundo!\")"
   ]
  },
  {
   "attachments": {},
   "cell_type": "markdown",
   "metadata": {},
   "source": [
    "também pode usar uma variável de string como a seguinte:\n",
    "meu_texto = \"Olá mundo!\"\n",
    "e depois imprimir o"
   ]
  },
  {
   "attachments": {},
   "cell_type": "markdown",
   "metadata": {},
   "source": [
    "Observe que em ambos os casos, incluo Hello World! dentro do duplo aspas. Este é o formato geral para declarar uma variável de string. Você pode usar aspas simples também. Ambos estão bem. Às vezes você pode precisar usar ambos de forma inteligente. Por exemplo, o seguinte código funciona bem:"
   ]
  },
  {
   "cell_type": "code",
   "execution_count": null,
   "metadata": {},
   "outputs": [],
   "source": [
    ">>> print(\"This is Sam's book.\")\n",
    "This is Sam's book.\n",
    "But if you use single quotations like the following, you’ll get errors.\n",
    "Here is a sample:\n",
    ">>> print('This is Sam's book.')\n",
    ">>> print('This is Sam\\'s book.')\n",
    "This is Sam's book."
   ]
  },
  {
   "attachments": {},
   "cell_type": "markdown",
   "metadata": {},
   "source": [
    "PONTO PARA LEMBRAR\n",
    "Você pode usar aspas simples ou duplas para imprimir a saída\n",
    "mensagens. Ambos estão bem. Python não distingue entre simples e\n",
    "aspas duplas. Você precisa se lembrar do simples fato: você\n",
    "coloque uma string literal entre aspas simples ou duplas correspondentes\n",
    "marcas.\n",
    "Na maioria dos casos, você me vê usando aspas duplas. é porque eu\n",
    "aprendi Java, C# anteriormente e, naturalmente, aspas duplas vêm em minha\n",
    "codificação. Já vi pessoas usando aspas simples para imprimir\n",
    "mensagens e aspas duplas para strings formatadas. Mas note que isso\n",
    "é apenas uma preferência, mas não uma convenção. O seguinte link:\n",
    "http://bit.ly/3i8zWAw diz: “Em inglês simples: Ambos os tipos de literais podem\n",
    "ser colocados entre aspas simples correspondentes (') ou aspas duplas (\"). Eles podem\n",
    "também ser colocados em grupos correspondentes de três aspas simples ou duplas\n",
    "(estes são geralmente referidos como strings com aspas triplas).” Consulte o\n",
    "documentação oficial http://bit.ly/python-official-documentation\n",
    "sempre que tiver dúvidas semelhantes."
   ]
  },
  {
   "attachments": {},
   "cell_type": "markdown",
   "metadata": {},
   "source": [
    "Os números também são muito usados na programação Python. Como strings, para imprimir um número sem variável, basta digitar o número dentro do função print() da seguinte forma. Eu mantenho os comentários embutidos para mostrar o que linhas podem ser impressas para você."
   ]
  },
  {
   "cell_type": "code",
   "execution_count": null,
   "metadata": {},
   "outputs": [],
   "source": [
    "print(1)#Prints 1\n",
    "print(5.7)# Prints 5.7\n",
    "print(-6.789)# Prints -6.789"
   ]
  },
  {
   "attachments": {},
   "cell_type": "markdown",
   "metadata": {},
   "source": [
    "Você também pode usar variáveis numéricas como as seguintes:"
   ]
  },
  {
   "cell_type": "code",
   "execution_count": null,
   "metadata": {},
   "outputs": [],
   "source": [
    "# Using variables\n",
    "my_int=125\n",
    "print(my_int)# Prints 125\n",
    "my_float=25.763\n",
    "print(my_float)# Prints 25.763"
   ]
  },
  {
   "attachments": {},
   "cell_type": "markdown",
   "metadata": {},
   "source": [
    "Quero que você observe que NÃO coloquei esses números dentro aspas duplas. Este é o formato geral para declarar uma variável numérica. Essa pequena diferença em uma declaração pode fazer uma grande diferença na saída. Por exemplo, considere o seguinte segmento de código e observe o inline comentários para saber a saída:"
   ]
  },
  {
   "cell_type": "code",
   "execution_count": null,
   "metadata": {},
   "outputs": [],
   "source": [
    "# Difference between the numbers and the strings\n",
    "print(\"1\"+ \"2\") #Prints 12\n",
    "print(1+2) #Prints 3"
   ]
  },
  {
   "attachments": {},
   "cell_type": "markdown",
   "metadata": {},
   "source": [
    "Agora, quero que você observe outra distinção fundamental. Desta vez ambos são números, mas eles são categorizados como int e float . Deixe-nos dar uma olhada."
   ]
  },
  {
   "attachments": {},
   "cell_type": "markdown",
   "metadata": {},
   "source": [
    "#### int vs float"
   ]
  },
  {
   "attachments": {},
   "cell_type": "markdown",
   "metadata": {},
   "source": [
    "Em Python, inteiros são números inteiros; eles não têm partes fracionárias. Um inteiro pode ser positivo, negativo ou 0. Por exemplo, 23,-32,67,-2,0,25 são exemplos de números inteiros. Em Python, nos referimos a um inteiro como um int ."
   ]
  },
  {
   "attachments": {},
   "cell_type": "markdown",
   "metadata": {},
   "source": [
    "Em contraste, 35,75, 45,2 etc. não são números inteiros porque têm partes fracionárias. Estes são números de ponto flutuante. Em Python, você simplesmente chame-os de tipo de dados float."
   ]
  },
  {
   "attachments": {},
   "cell_type": "markdown",
   "metadata": {},
   "source": [
    "Agora você está pronto para prosseguir. Antes de discutir mais sobre Variáveis Python, deixe-me mostrar um programa. Este programa pode fazer mais sentido para você quando você passa pela análise seguida pela saída do programa"
   ]
  },
  {
   "attachments": {},
   "cell_type": "markdown",
   "metadata": {},
   "source": [
    "#### Demonstração 2"
   ]
  },
  {
   "attachments": {},
   "cell_type": "markdown",
   "metadata": {},
   "source": [
    "Agora altero a Demonstração1 no capítulo anterior (Capítulo 1). Aqui eu adicione mais algumas linhas de código ao programa. Eu crio um novo arquivo python e denomine-o hello_world_modified.py. Então eu digito as seguintes linhas nele."
   ]
  },
  {
   "cell_type": "code",
   "execution_count": null,
   "metadata": {},
   "outputs": [],
   "source": [
    "print(\"*** This program shows the use of a variable. ***\")\n",
    "# mytext is holding the value \"Hello World!\"\n",
    "my_text = \"Hello World!\"\n",
    "print(my_text)\n",
    "# my_text is holding a new value\n",
    "my_text = \"Dear Reader, how are you?\"\n",
    "print(my_text)"
   ]
  },
  {
   "attachments": {},
   "cell_type": "markdown",
   "metadata": {},
   "source": [
    "#### Análise"
   ]
  },
  {
   "attachments": {},
   "cell_type": "markdown",
   "metadata": {},
   "source": [
    "Esta saída mostra uma maneira alternativa de imprimir “Hello World!” . E daí foi a modificação chave? Em vez de escrever a seguinte linha:"
   ]
  },
  {
   "cell_type": "code",
   "execution_count": null,
   "metadata": {},
   "outputs": [],
   "source": [
    "print(\"Olá mundo!\")"
   ]
  },
  {
   "attachments": {},
   "cell_type": "markdown",
   "metadata": {},
   "source": [
    "Agora escrevi as seguintes linhas:\n",
    "meu_texto = \"Olá mundo!\""
   ]
  },
  {
   "cell_type": "code",
   "execution_count": null,
   "metadata": {},
   "outputs": [],
   "source": [
    "meu_texto = \"Olá mundo!\"\n",
    "print(meu_texto)"
   ]
  },
  {
   "attachments": {},
   "cell_type": "markdown",
   "metadata": {},
   "source": [
    "Você pode ver que, em ambos os casos, recebi a mesma saída. Mas por que eu deveria escrever mais? Uma resposta possível pode ser encontrada quando você percebe a última parte do programa que é a seguinte:"
   ]
  },
  {
   "cell_type": "code",
   "execution_count": null,
   "metadata": {},
   "outputs": [],
   "source": [
    "my_text = \"Caro Leitor, como vai você?\"\n",
    "print(meu_texto)"
   ]
  },
  {
   "attachments": {},
   "cell_type": "markdown",
   "metadata": {},
   "source": [
    "Você pode ver que pode armazenar dados diferentes dentro de my_text e manipulá-los mais tarde. Mais importante ainda, você pode alterar o valor mais tarde. Isso é o uso de chave de uma variável. Você acertou; meu_texto é um exemplo de um\n",
    "variável que você viu nesta demonstração. Neste exemplo, você pode observe que o valor inicial ( Hello World ! ) de my_text é alterado posteriormente em este programa."
   ]
  },
  {
   "attachments": {},
   "cell_type": "markdown",
   "metadata": {},
   "source": [
    "Para explicar melhor o programa, posso usar comentários neste programa. Você já aprendeu sobre comentários, e aqui você vê outro caso de uso válido deles."
   ]
  },
  {
   "attachments": {},
   "cell_type": "markdown",
   "metadata": {},
   "source": [
    "Agora resumi os pontos principais:\n",
    "\n",
    "- Usando um operador de atribuição (=) você pode atribuir um valor a uma variável.\n",
    "- Você pode atribuir uma variável e reatribuí-la novamente. Você faz isso quando faz sentido para você.\n",
    "\n",
    "NOTE: Observe que o tipo de variável muda se você reatribuir uma expressão\n",
    "com um tipo diferente. Vamos testar isso em um shell Python:"
   ]
  },
  {
   "cell_type": "code",
   "execution_count": null,
   "metadata": {},
   "outputs": [],
   "source": [
    ">>> number1=2\n",
    ">>> number2=3\n",
    ">>> print(number1+number2)\n",
    "5\n",
    ">>> number1=2.0\n",
    ">>> print(number1+number2)"
   ]
  },
  {
   "attachments": {},
   "cell_type": "markdown",
   "metadata": {},
   "source": [
    "Você pode ver que quando number1 foi reatribuído ao valor 2.0, o a soma resultante de number1+number2 torna-se 5,0 em vez de 5 ."
   ]
  },
  {
   "attachments": {},
   "cell_type": "markdown",
   "metadata": {},
   "source": [
    "Como alternativa, você pode testar o seguinte bloco de código. Observe que se você atribui 2 à variável number1 , o interpretador Python pode determinar que é um int. Mas quando você atribui 2.0 à variável number1 , pode reconhecê-lo como um tipo de dados float."
   ]
  },
  {
   "cell_type": "code",
   "execution_count": null,
   "metadata": {},
   "outputs": [],
   "source": [
    ">>> number1=2\n",
    ">>> type(number1)\n",
    "<class 'int'>\n",
    ">>> number1=2.0\n",
    ">>> type(number1)\n",
    "<class 'float'>"
   ]
  },
  {
   "attachments": {},
   "cell_type": "markdown",
   "metadata": {},
   "source": [
    "#### Convenções de nomenclatura"
   ]
  },
  {
   "attachments": {},
   "cell_type": "markdown",
   "metadata": {},
   "source": [
    "Você pode se lembrar dos seguintes pontos quando usar variáveis em seu programa."
   ]
  },
  {
   "attachments": {},
   "cell_type": "markdown",
   "metadata": {},
   "source": [
    "Você usa um operador de atribuição (por exemplo, =) para atribuir um valor a uma variável. Você verá diferentes operadores de atribuição em breve."
   ]
  },
  {
   "attachments": {},
   "cell_type": "markdown",
   "metadata": {},
   "source": [
    "Em aplicativos do mundo real, você usa uma linguagem significativa e descritiva nome para suas variáveis. Tente evitar nomes de variáveis de um caractere, exceto dentro de alguns loops ou funções. Você saberá sobre loops e funções e usá-los em capítulos posteriores. Por enquanto, você pode observar este ponto. em simples demonstrações para digitar menos, às vezes ignoro essa convenção. Então, em alguns fragmentos de código, você pode ver algo como x=5 . Mas em um mundo real aplicativo, escolha um nome melhor, que seja significativo o suficiente. Por exemplo, atribuir um número de identificação (digamos, 5 ) a um funcionário em um organização, você pode escrever algo como employee_id=5"
   ]
  },
  {
   "attachments": {},
   "cell_type": "markdown",
   "metadata": {},
   "source": [
    "O nome da sua variável não deve entrar em conflito com as palavras-chave do Python. A palavra-chave é uma palavra reservada, você não pode usá-los como identificadores comuns. O Python 3.9 foi lançado agora. Você pode consultar o link online https://docs.python.org/3/reference/lexical_analysis.html#identifiers para saber sobre as palavras-chave mais recentes. Para sua referência imediata, incluo-os aqui:"
   ]
  },
  {
   "attachments": {},
   "cell_type": "markdown",
   "metadata": {},
   "source": [
    "False await else import pass\n",
    "None break except in raise\n",
    "True class finally is return\n",
    "and continue for lambda try\n",
    "as def from nonlocal while\n",
    "assert del global not with\n",
    "async elif if or yield"
   ]
  },
  {
   "attachments": {},
   "cell_type": "markdown",
   "metadata": {},
   "source": [
    "Portanto, se você escrever for=25, receberá um erro. Aqui está uma amostra para você:"
   ]
  },
  {
   "cell_type": "code",
   "execution_count": null,
   "metadata": {},
   "outputs": [],
   "source": [
    "for = 25"
   ]
  },
  {
   "cell_type": "code",
   "execution_count": null,
   "metadata": {},
   "outputs": [],
   "source": [
    ">>> for_variable=25\n",
    ">>> for_variable\n",
    "25"
   ]
  },
  {
   "attachments": {},
   "cell_type": "markdown",
   "metadata": {},
   "source": [
    "Como uma linguagem de computador diferente, o Python possui muitos funções. Seu nome de variável não deve entrar em conflito com esses nomes. Para exemplo, em Python, você pode usar a função abs() para calcular o absoluto valor. Aqui estão alguns exemplos."
   ]
  },
  {
   "cell_type": "code",
   "execution_count": null,
   "metadata": {},
   "outputs": [],
   "source": [
    ">>> abs(23.7)\n",
    "23.7\n",
    ">>> abs(-5.7)\n",
    "5.7\n",
    ">>> abs(3-7.5)\n",
    "4.5\n"
   ]
  },
  {
   "attachments": {},
   "cell_type": "markdown",
   "metadata": {},
   "source": [
    "Então, idealmente, você não deve usar algo como abs=45.2. Nisso contexto, há outro ponto interessante a observar. Digamos, por engano, você use abs=45.2 anteriormente em seu código. Agora, se você chamar abs(-10) , um shell Python pode mostrar um erro. Aqui eu mostro essa amostra."
   ]
  },
  {
   "cell_type": "code",
   "execution_count": null,
   "metadata": {},
   "outputs": [],
   "source": [
    ">>> abs=45.2\n",
    ">>> print(abs)\n",
    "45.2\n",
    ">>> abs(-10)"
   ]
  },
  {
   "attachments": {},
   "cell_type": "markdown",
   "metadata": {},
   "source": [
    "Um erro semelhante pode aparecer se você escrever algo como abs=45 e então você tenta chamar abs(-10) . Aqui está um fragmento de código:"
   ]
  },
  {
   "cell_type": "code",
   "execution_count": null,
   "metadata": {},
   "outputs": [],
   "source": [
    ">>> abs=45\n",
    ">>> print(abs)\n",
    "45\n",
    ">>> abs(-10)"
   ]
  },
  {
   "attachments": {},
   "cell_type": "markdown",
   "metadata": {},
   "source": [
    "Ambos os erros são semelhantes. A única diferença é que no primeiro caso, ele reclama do float , mas no caso seguinte, ele diz sobre um int . É óbvio porque você sabe que 45,2 é um número de ponto flutuante, mas 45 é um número inteiro. Então, você entende que esse tipo de erro tenta dizer que você ter usado abs antes desta chamada. Uma solução simples para isso é sair do shell (ou remova a prática de nomenclatura de variável errônea) e tente usar o embutido funcionar novamente. Aqui está um fragmento de código do shell Python para o seu referência."
   ]
  },
  {
   "cell_type": "markdown",
   "metadata": {},
   "source": []
  },
  {
   "cell_type": "markdown",
   "metadata": {},
   "source": []
  },
  {
   "cell_type": "markdown",
   "metadata": {},
   "source": []
  },
  {
   "cell_type": "markdown",
   "metadata": {},
   "source": []
  },
  {
   "cell_type": "markdown",
   "metadata": {},
   "source": []
  },
  {
   "cell_type": "markdown",
   "metadata": {},
   "source": []
  },
  {
   "cell_type": "markdown",
   "metadata": {},
   "source": []
  },
  {
   "cell_type": "markdown",
   "metadata": {},
   "source": []
  },
  {
   "cell_type": "markdown",
   "metadata": {},
   "source": []
  },
  {
   "cell_type": "markdown",
   "metadata": {},
   "source": []
  },
  {
   "cell_type": "code",
   "execution_count": null,
   "metadata": {},
   "outputs": [],
   "source": [
    "%reload_ext watermark\n",
    "%watermark -a \"Caique Miranda\" -gu \"caiquemiranda\" -iv"
   ]
  },
  {
   "attachments": {},
   "cell_type": "markdown",
   "metadata": {},
   "source": [
    "### End."
   ]
  }
 ],
 "metadata": {
  "language_info": {
   "name": "python"
  },
  "orig_nbformat": 4
 },
 "nbformat": 4,
 "nbformat_minor": 2
}
